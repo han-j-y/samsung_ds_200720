{
 "cells": [
  {
   "cell_type": "code",
   "execution_count": 2,
   "metadata": {},
   "outputs": [
    {
     "name": "stderr",
     "output_type": "stream",
     "text": [
      "Using TensorFlow backend.\n"
     ]
    }
   ],
   "source": [
    "from __future__ import print_function\n",
    "import keras\n",
    "from keras.datasets import mnist\n",
    "from keras.models import Sequential\n",
    "from keras.layers import Dense, Dropout, Flatten\n",
    "from keras.layers import Conv2D, MaxPooling2D, Activation\n",
    "from keras import backend as K\n",
    "import tensorflow as tf"
   ]
  },
  {
   "cell_type": "code",
   "execution_count": 2,
   "metadata": {},
   "outputs": [],
   "source": [
    "import numpy as np\n",
    "import matplotlib.pyplot as plt"
   ]
  },
  {
   "cell_type": "code",
   "execution_count": 3,
   "metadata": {},
   "outputs": [],
   "source": [
    "import random"
   ]
  },
  {
   "cell_type": "code",
   "execution_count": 4,
   "metadata": {},
   "outputs": [],
   "source": [
    "import cv2"
   ]
  },
  {
   "cell_type": "code",
   "execution_count": 5,
   "metadata": {},
   "outputs": [],
   "source": [
    "np.random.seed(0)"
   ]
  },
  {
   "cell_type": "code",
   "execution_count": 3,
   "metadata": {},
   "outputs": [
    {
     "name": "stdout",
     "output_type": "stream",
     "text": [
      "2 Physical GPUs, 1 Logical GPUs\n"
     ]
    }
   ],
   "source": [
    "gpus = tf.config.experimental.list_physical_devices(device_type='GPU')\n",
    "tf.config.experimental.set_visible_devices(devices=gpus[0], device_type='GPU')\n",
    "gpus = tf.config.experimental.list_physical_devices('GPU')\n",
    "\n",
    "if gpus:\n",
    "    try:\n",
    "        # Currently, memory growth needs to be the same across GPUs\n",
    "        for gpu in gpus:\n",
    "            tf.config.experimental.set_memory_growth(gpu, True)\n",
    "        logical_gpus = tf.config.experimental.list_logical_devices('GPU')\n",
    "        print(len(gpus), \"Physical GPUs,\", len(logical_gpus), \"Logical GPUs\")\n",
    "    except RuntimeError as e:\n",
    "        # Memory growth must be set before GPUs have been initialized\n",
    "        print(e)\n"
   ]
  },
  {
   "cell_type": "markdown",
   "metadata": {},
   "source": [
    "# 1.MNIST Data load\n",
    "mnist 데이터는 28*28 사이즈를 가지며, 채널은 1개인 오픈 데이터셋입니다."
   ]
  },
  {
   "cell_type": "code",
   "execution_count": 7,
   "metadata": {},
   "outputs": [
    {
     "name": "stdout",
     "output_type": "stream",
     "text": [
      "Downloading data from https://s3.amazonaws.com/img-datasets/mnist.npz\n",
      "11493376/11490434 [==============================] - 3s 0us/step\n"
     ]
    }
   ],
   "source": [
    "(x_train, y_train), (x_test, y_test) = mnist.load_data()"
   ]
  },
  {
   "cell_type": "code",
   "execution_count": 8,
   "metadata": {},
   "outputs": [
    {
     "name": "stdout",
     "output_type": "stream",
     "text": [
      "x_train shape: (60000, 28, 28)\n",
      "x_test shape: (10000, 28, 28)\n",
      "y_train shape: (60000,)\n",
      "y_test shape: (10000,)\n"
     ]
    }
   ],
   "source": [
    "print ('x_train shape:',x_train.shape)\n",
    "print ('x_test shape:',x_test.shape)\n",
    "print ('y_train shape:',y_train.shape)\n",
    "print ('y_test shape:',y_test.shape)"
   ]
  },
  {
   "cell_type": "code",
   "execution_count": 9,
   "metadata": {},
   "outputs": [
    {
     "data": {
      "image/png": "[encoded data removed]",
      "text/plain": [
       "<Figure size 720x360 with 9 Axes>"
      ]
     },
     "metadata": {},
     "output_type": "display_data"
    }
   ],
   "source": [
    "fig = plt.figure(figsize=(10,5))\n",
    "for i in range(9):\n",
    "    subplot = fig.add_subplot(4, 10, i+1)\n",
    "    subplot.set_xticks([])\n",
    "    subplot.set_yticks([])\n",
    "    subplot.set_title('%d' % (y_train[i]))\n",
    "    subplot.imshow(x_train[i].reshape(28,28), vmin=0, vmax=1,\n",
    "                   cmap=plt.cm.gray_r, interpolation='nearest')"
   ]
  },
  {
   "cell_type": "markdown",
   "metadata": {},
   "source": [
    "# 2. Data preprocessing\n",
    "MNIST 데이터로 학습을 할 때에, keras 혹은 tensorflow에서는 기본으로 (N,H,W,C) 형태의 4차원 tensor를 인풋으로 학습합니다. 따라서 다운로드 받은 mnist데이터를 다음과 같은 형태로 reshape 해야하는 전처리 과정이 필요합니다."
   ]
  },
  {
   "cell_type": "code",
   "execution_count": 10,
   "metadata": {},
   "outputs": [],
   "source": [
    "# input image dimensions\n",
    "img_rows, img_cols = 28, 28\n",
    "num_classes =10"
   ]
  },
  {
   "cell_type": "code",
   "execution_count": 11,
   "metadata": {},
   "outputs": [],
   "source": [
    "x_train = x_train.reshape(x_train.shape[0], img_rows, img_cols, 1)\n",
    "x_test = x_test.reshape(x_test.shape[0], img_rows, img_cols, 1)\n",
    "input_shape = (img_rows, img_cols, 1)\n",
    "\n",
    "x_train = x_train.astype('float32')\n",
    "x_test = x_test.astype('float32')\n",
    "x_train /= 255\n",
    "x_test /= 255"
   ]
  },
  {
   "cell_type": "markdown",
   "metadata": {},
   "source": [
    "아웃풋은 one-hot encoding 방식으로 표현된 벡터로 표현합니다. MNIST의 총 클래수 갯수는 10개이므로 (N,10)의 형태로 reshape하는 전처리 과정이 필요합니다."
   ]
  },
  {
   "cell_type": "code",
   "execution_count": 12,
   "metadata": {},
   "outputs": [],
   "source": [
    "# convert class vectors to binary class matrices\n",
    "y_train = keras.utils.to_categorical(y_train, num_classes)\n",
    "y_test = keras.utils.to_categorical(y_test, num_classes)"
   ]
  },
  {
   "cell_type": "code",
   "execution_count": 13,
   "metadata": {},
   "outputs": [
    {
     "name": "stdout",
     "output_type": "stream",
     "text": [
      "x_train shape: (60000, 28, 28, 1)\n",
      "x_test shape: (10000, 28, 28, 1)\n",
      "y_train shape: (60000, 10)\n",
      "y_test shape: (10000, 10)\n"
     ]
    }
   ],
   "source": [
    "print ('x_train shape:',x_train.shape)\n",
    "print ('x_test shape:',x_test.shape)\n",
    "print ('y_train shape:',y_train.shape)\n",
    "print ('y_test shape:',y_test.shape)"
   ]
  },
  {
   "cell_type": "markdown",
   "metadata": {},
   "source": [
    "# 실습1. Padding 과 Stride\n",
    "padding과 stride를 바꿔가며 아웃풋의 형태가 어떻게 변하는지 알아보는 실습입니다.\n",
    "1. padding :\n",
    "padding=\"same\" 은 padding을 사용하여 인풋과 아웃풋 형태가 동일하게 한다는 의미입니다. 반대로 padding=\"valid\"는 padding 을 사용하지 않는다는 의미입니다.\n",
    "\n",
    "2. stride :\n",
    "stride는 (가로이동수, 세로이동수) 로 표현합니다. 주로 (1,1), (2,2) 와 같이 가로,세로 동일하게 이동합니다."
   ]
  },
  {
   "cell_type": "markdown",
   "metadata": {},
   "source": [
    "커널을 정의할 때는, \n",
    "1. 커널의 갯수\n",
    "2. 커널의 사이즈\n",
    "3. 스트라이드\n",
    "4. 패딩 여부\n",
    "가 필요합니다."
   ]
  },
  {
   "cell_type": "code",
   "execution_count": 14,
   "metadata": {},
   "outputs": [],
   "source": [
    "model = Sequential()\n",
    "model.add(Conv2D(filters = 2, \n",
    "                kernel_size=(3,3),\n",
    "                strides = (1,1),\n",
    "                padding='same',\n",
    "                input_shape=input_shape))\n",
    "model.add(MaxPooling2D(pool_size=(2,2)))"
   ]
  },
  {
   "cell_type": "markdown",
   "metadata": {},
   "source": [
    "생성된 모델은 **summary()** 함수를 통해 그 구조를 출력할 수 있습니다."
   ]
  },
  {
   "cell_type": "code",
   "execution_count": 15,
   "metadata": {},
   "outputs": [
    {
     "name": "stdout",
     "output_type": "stream",
     "text": [
      "(28, 28, 1)\n",
      "Model: \"sequential_1\"\n",
      "_________________________________________________________________\n",
      "Layer (type)                 Output Shape              Param #   \n",
      "=================================================================\n",
      "conv2d_1 (Conv2D)            (None, 28, 28, 2)         20        \n",
      "_________________________________________________________________\n",
      "max_pooling2d_1 (MaxPooling2 (None, 14, 14, 2)         0         \n",
      "=================================================================\n",
      "Total params: 20\n",
      "Trainable params: 20\n",
      "Non-trainable params: 0\n",
      "_________________________________________________________________\n",
      "None\n"
     ]
    }
   ],
   "source": [
    "print (input_shape)\n",
    "print( model.summary())"
   ]
  },
  {
   "cell_type": "code",
   "execution_count": 16,
   "metadata": {},
   "outputs": [],
   "source": [
    "model = Sequential()\n",
    "model.add(Conv2D(filters = 2, \n",
    "                kernel_size=(3,3),\n",
    "                strides = (3,3),\n",
    "                padding='same',\n",
    "                input_shape=input_shape))\n",
    "model.add(MaxPooling2D(pool_size=(2,2)))"
   ]
  },
  {
   "cell_type": "code",
   "execution_count": 17,
   "metadata": {},
   "outputs": [
    {
     "name": "stdout",
     "output_type": "stream",
     "text": [
      "Model: \"sequential_2\"\n",
      "_________________________________________________________________\n",
      "Layer (type)                 Output Shape              Param #   \n",
      "=================================================================\n",
      "conv2d_2 (Conv2D)            (None, 10, 10, 2)         20        \n",
      "_________________________________________________________________\n",
      "max_pooling2d_2 (MaxPooling2 (None, 5, 5, 2)           0         \n",
      "=================================================================\n",
      "Total params: 20\n",
      "Trainable params: 20\n",
      "Non-trainable params: 0\n",
      "_________________________________________________________________\n"
     ]
    }
   ],
   "source": [
    "model.summary()"
   ]
  },
  {
   "cell_type": "code",
   "execution_count": 18,
   "metadata": {},
   "outputs": [],
   "source": [
    "model = Sequential()\n",
    "model.add(Conv2D(filters = 2, \n",
    "                kernel_size=(3,3),\n",
    "                strides = (1,1),\n",
    "                padding='valid',\n",
    "                input_shape=input_shape))\n",
    "model.add(MaxPooling2D(pool_size=(2,2)))"
   ]
  },
  {
   "cell_type": "code",
   "execution_count": 19,
   "metadata": {},
   "outputs": [
    {
     "name": "stdout",
     "output_type": "stream",
     "text": [
      "Model: \"sequential_3\"\n",
      "_________________________________________________________________\n",
      "Layer (type)                 Output Shape              Param #   \n",
      "=================================================================\n",
      "conv2d_3 (Conv2D)            (None, 26, 26, 2)         20        \n",
      "_________________________________________________________________\n",
      "max_pooling2d_3 (MaxPooling2 (None, 13, 13, 2)         0         \n",
      "=================================================================\n",
      "Total params: 20\n",
      "Trainable params: 20\n",
      "Non-trainable params: 0\n",
      "_________________________________________________________________\n"
     ]
    }
   ],
   "source": [
    "model.summary()"
   ]
  },
  {
   "cell_type": "markdown",
   "metadata": {},
   "source": [
    "Now, Guess how output looks like!"
   ]
  },
  {
   "cell_type": "code",
   "execution_count": 20,
   "metadata": {},
   "outputs": [],
   "source": [
    "model = Sequential()\n",
    "model.add(Conv2D(filters = 3, \n",
    "                kernel_size=(5,5),\n",
    "                strides = (1,1),\n",
    "                padding='same',\n",
    "                input_shape=input_shape))\n",
    "model.add(MaxPooling2D(pool_size=(2,2)))"
   ]
  },
  {
   "cell_type": "code",
   "execution_count": 21,
   "metadata": {},
   "outputs": [
    {
     "name": "stdout",
     "output_type": "stream",
     "text": [
      "Model: \"sequential_4\"\n",
      "_________________________________________________________________\n",
      "Layer (type)                 Output Shape              Param #   \n",
      "=================================================================\n",
      "conv2d_4 (Conv2D)            (None, 28, 28, 3)         78        \n",
      "_________________________________________________________________\n",
      "max_pooling2d_4 (MaxPooling2 (None, 14, 14, 3)         0         \n",
      "=================================================================\n",
      "Total params: 78\n",
      "Trainable params: 78\n",
      "Non-trainable params: 0\n",
      "_________________________________________________________________\n"
     ]
    }
   ],
   "source": [
    "model.summary()"
   ]
  },
  {
   "cell_type": "markdown",
   "metadata": {},
   "source": [
    "# 2 .convolution filter의 역할\n",
    "CNN에서의 filter 혹은 kernel은 이미지의 특징을 추출하기 위한 공용 파라미터를 의미합니다. 따라서 이 filter를 학습함에 따라 목표에 맞는(예를 들어, 1~10 까지 classifcation) kernel weight들을 학습하는 것이 CNN의 feature extraction 과정에서 하는 것입니다.\n",
    "그렇다면 filter가 어떻게 특징을 추출할 수 있는 것일까요? \n",
    "filter에 수업 때 배운 여러 weight들을 집어넣으면서 이미지에서 어떤 feature가 추출되는지실습을 통해 알아보겠습니다."
   ]
  },
  {
   "cell_type": "markdown",
   "metadata": {},
   "source": [
    "아래 함수는, 사용한 filter와 그 filter를 통해 나온 output을 plot하는 함수입니다."
   ]
  },
  {
   "cell_type": "code",
   "execution_count": 22,
   "metadata": {},
   "outputs": [],
   "source": [
    "def plot_cnn(filter_vals, applied_vals):\n",
    "    fig = plt.figure(figsize=(10,3))\n",
    "\n",
    "    for i in range(2):\n",
    "        subplot = fig.add_subplot(3, 10, 10*(i+1)+1)\n",
    "        subplot.set_xticks([])\n",
    "        subplot.set_yticks([])\n",
    "        subplot.imshow(filter_vals[:,:,0,i],\n",
    "                       cmap=plt.cm.gray_r, interpolation='nearest')\n",
    "\n",
    "    v_max = np.max(applied_vals)\n",
    "\n",
    "    for i in range(9):\n",
    "        subplot = fig.add_subplot(3, 10, i+2)\n",
    "        subplot.set_xticks([])\n",
    "        subplot.set_yticks([])\n",
    "        subplot.set_title('%d' % np.argmax(y_train[i]))\n",
    "        subplot.imshow(x_train[:9].T[0].T[i].reshape((28,28)), vmin=0, vmax=1,\n",
    "                       cmap=plt.cm.gray_r, interpolation='nearest')\n",
    "\n",
    "        subplot = fig.add_subplot(3, 10, 10+i+2)\n",
    "        subplot.set_xticks([])\n",
    "        subplot.set_yticks([])\n",
    "        subplot.imshow(applied_vals[i,:,:,0], vmin=0, vmax=v_max,\n",
    "                       cmap=plt.cm.gray_r, interpolation='nearest')\n",
    "\n",
    "        subplot = fig.add_subplot(3, 10, 20+i+2)\n",
    "        subplot.set_xticks([])\n",
    "        subplot.set_yticks([])\n",
    "        subplot.imshow(applied_vals[i,:,:,1], vmin=0, vmax=v_max,\n",
    "                       cmap=plt.cm.gray_r, interpolation='nearest')"
   ]
  },
  {
   "cell_type": "markdown",
   "metadata": {},
   "source": [
    "먼저, CNN에서 feature extraction 부분을 구성하는, convolution layer와 pooling layer 를 가지는 모델을 만들어보겠습니다."
   ]
  },
  {
   "cell_type": "code",
   "execution_count": 23,
   "metadata": {},
   "outputs": [],
   "source": [
    "model = Sequential()\n",
    "model.add(Conv2D(filters = 2, \n",
    "                kernel_size=(3,3),\n",
    "                strides = (1,1),\n",
    "                padding='same',\n",
    "                use_bias =False,\n",
    "                input_shape=input_shape))\n",
    "model.add(MaxPooling2D(pool_size=(2,2)))"
   ]
  },
  {
   "cell_type": "code",
   "execution_count": 24,
   "metadata": {
    "scrolled": true
   },
   "outputs": [
    {
     "name": "stdout",
     "output_type": "stream",
     "text": [
      "Model: \"sequential_5\"\n",
      "_________________________________________________________________\n",
      "Layer (type)                 Output Shape              Param #   \n",
      "=================================================================\n",
      "conv2d_5 (Conv2D)            (None, 28, 28, 2)         18        \n",
      "_________________________________________________________________\n",
      "max_pooling2d_5 (MaxPooling2 (None, 14, 14, 2)         0         \n",
      "=================================================================\n",
      "Total params: 18\n",
      "Trainable params: 18\n",
      "Non-trainable params: 0\n",
      "_________________________________________________________________\n"
     ]
    }
   ],
   "source": [
    "model.summary()"
   ]
  },
  {
   "cell_type": "markdown",
   "metadata": {},
   "source": [
    "모델의 구조는 정해졌으니, 이 정해진 구조에 특정한 input을 넣으면 convolution layer와 pooling layer의 output을 리턴해주는 간단한 함수입니다."
   ]
  },
  {
   "cell_type": "code",
   "execution_count": 25,
   "metadata": {},
   "outputs": [],
   "source": [
    "conv_output_func = K.function([model.input], [model.layers[0].output])\n",
    "pool_output_func = K.function([model.input], [model.layers[1].output])"
   ]
  },
  {
   "cell_type": "markdown",
   "metadata": {},
   "source": [
    "### (1)with initialized(randomed) weights\n",
    "모델의 구조를 정하고, 커널이 initialize 되었을 때, 트레이닝 데이터 9개를 넣으면 어떤 모습일지 확인해봅니다."
   ]
  },
  {
   "cell_type": "code",
   "execution_count": 26,
   "metadata": {},
   "outputs": [
    {
     "name": "stdout",
     "output_type": "stream",
     "text": [
      "(9, 28, 28, 2)\n"
     ]
    }
   ],
   "source": [
    "conv_output = np.asarray(conv_output_func([x_train[0:9]]))[0]\n",
    "print (conv_output.shape)"
   ]
  },
  {
   "cell_type": "code",
   "execution_count": 27,
   "metadata": {},
   "outputs": [],
   "source": [
    "conv_weights = np.asarray(model.layers[0].get_weights())[0]"
   ]
  },
  {
   "cell_type": "code",
   "execution_count": 28,
   "metadata": {},
   "outputs": [],
   "source": [
    "pool_output = np.asarray(pool_output_func([x_train[0:9]]))[0]"
   ]
  },
  {
   "cell_type": "markdown",
   "metadata": {},
   "source": [
    "filter(convolution)을 거치고 난 후의 output은 어떤 모습일까?"
   ]
  },
  {
   "cell_type": "code",
   "execution_count": 29,
   "metadata": {},
   "outputs": [
    {
     "data": {
      "image/png": "[encoded data removed]",
      "text/plain": [
       "<Figure size 720x216 with 29 Axes>"
      ]
     },
     "metadata": {},
     "output_type": "display_data"
    }
   ],
   "source": [
    "plot_cnn(conv_weights,conv_output)"
   ]
  },
  {
   "cell_type": "markdown",
   "metadata": {},
   "source": [
    "pooling을 거치고 난 후의 output은 어떤 모습일까?"
   ]
  },
  {
   "cell_type": "code",
   "execution_count": 30,
   "metadata": {},
   "outputs": [
    {
     "data": {
      "image/png": "[encoded data removed]",
      "text/plain": [
       "<Figure size 720x216 with 29 Axes>"
      ]
     },
     "metadata": {},
     "output_type": "display_data"
    }
   ],
   "source": [
    "plot_cnn(conv_weights,pool_output)"
   ]
  },
  {
   "cell_type": "markdown",
   "metadata": {},
   "source": [
    "### <font color=red> (2) TRY! create own weights and see what happens!</font>"
   ]
  },
  {
   "cell_type": "markdown",
   "metadata": {},
   "source": [
    "**Kernel for detecting several patterns**\n",
    "아래있는 여러 kernel들을 참고하여 2가지의 filter을 고른 후, 모델에 해당filter를 적용해주세요\n",
    "예시)\n",
    "\n",
    "<img src=\"./images/convolutional_kernel.png\" alt=\"convolutional_kernel\" title=\"convolutional_kernel\" />\n"
   ]
  },
  {
   "cell_type": "raw",
   "metadata": {},
   "source": [
    "#예시\n",
    "blur_filter = np.array(\n",
    "    [[0.0625,0.125,0.0625],\n",
    "     [0.125,0.25,0.125],\n",
    "     [0.0625,0.125,0.0625]]) \n",
    "edge_filter = np.array(\n",
    "[[1,0,-1],\n",
    " [2,0,-2],\n",
    " [1,0,-1]]) "
   ]
  },
  {
   "cell_type": "code",
   "execution_count": 31,
   "metadata": {},
   "outputs": [],
   "source": [
    "blur_filter = np.array(\n",
    "    [[0.0625,0.125,0.0625],\n",
    "     [0.125,0.25,0.125],\n",
    "     [0.0625,0.125,0.0625]]) \n",
    "edge_filter = np.array(\n",
    "[[-1,-1,-1],\n",
    " [-1,8,-1],\n",
    " [-1,-1,-1]]) \n",
    "\n",
    "filter_array = np.zeros([3,3,1,2])\n",
    "filter_array[:,:,0,0] = blur_filter\n",
    "filter_array[:,:,0,1] = edge_filter"
   ]
  },
  {
   "cell_type": "code",
   "execution_count": 32,
   "metadata": {},
   "outputs": [],
   "source": [
    "model.layers[0].set_weights(filter_array.reshape(1,3,3,1,2))"
   ]
  },
  {
   "cell_type": "code",
   "execution_count": 33,
   "metadata": {},
   "outputs": [
    {
     "name": "stdout",
     "output_type": "stream",
     "text": [
      "(9, 28, 28, 2)\n"
     ]
    }
   ],
   "source": [
    "conv_output = np.asarray(conv_output_func([x_train[0:9]]))[0]\n",
    "print (conv_output.shape)"
   ]
  },
  {
   "cell_type": "code",
   "execution_count": 34,
   "metadata": {},
   "outputs": [],
   "source": [
    "conv_weights = np.asarray(model.layers[0].get_weights())[0]"
   ]
  },
  {
   "cell_type": "code",
   "execution_count": 35,
   "metadata": {},
   "outputs": [],
   "source": [
    "pool_output = np.asarray(pool_output_func([x_train[0:9]]))[0]"
   ]
  },
  {
   "cell_type": "code",
   "execution_count": 36,
   "metadata": {
    "scrolled": true
   },
   "outputs": [
    {
     "data": {
      "image/png": "[encoded data removed]",
      "text/plain": [
       "<Figure size 720x216 with 29 Axes>"
      ]
     },
     "metadata": {},
     "output_type": "display_data"
    }
   ],
   "source": [
    "plot_cnn(conv_weights,conv_output)"
   ]
  },
  {
   "cell_type": "code",
   "execution_count": 37,
   "metadata": {},
   "outputs": [
    {
     "data": {
      "image/png": "[encoded data removed]",
      "text/plain": [
       "<Figure size 720x216 with 29 Axes>"
      ]
     },
     "metadata": {},
     "output_type": "display_data"
    }
   ],
   "source": [
    "plot_cnn(conv_weights,pool_output)"
   ]
  },
  {
   "cell_type": "markdown",
   "metadata": {},
   "source": [
    "위의 실험에서 보았듯이, 어떠한 kernel을 사용하냐에 따라 추출되는 feature가 다릅니다. 이 feature들은 마지막에 클래지피게이션하는 input으로 사용되므로 목적에 맞는 feature를 잘 추출하는 것이 필요합니다. 따라서 CNN에서는 이 kernel를 학습합니다. "
   ]
  },
  {
   "cell_type": "markdown",
   "metadata": {},
   "source": [
    "# 2. MLP vs CNN\n",
    "지금까지 CNN의 feature extractor 부분에 집중하여 1. convolution layer의 필터갯수, 필터크기, 스트라이드, 패딩여부에 따라 output 형태가 달라지고,\n",
    "2. kernel 에 따라 다양한 feature가 추출되므로, 이 kernel를 학습하는 것이 중요하다는 것을 알게되었습니다.\n",
    "\n",
    "다음으로는 MLP와 CNN를 각각 학습하면서, MLP와 CNN를 비교해보겠습니다."
   ]
  },
  {
   "cell_type": "markdown",
   "metadata": {},
   "source": [
    "<img src=\"./images/mlp_structure.png\" alt=\"mlp_structure\" title=\"mlp_structure\" />"
   ]
  },
  {
   "cell_type": "code",
   "execution_count": 38,
   "metadata": {},
   "outputs": [],
   "source": [
    "def plot_prediction(model, input_data, correctness):\n",
    "    predicted_result = model.predict(input_data)\n",
    "    predicted_labels = np.argmax(predicted_result, axis=1)\n",
    "\n",
    "    test_labels = np.argmax(y_test, axis=1)\n",
    "    result = []\n",
    "    if correctness ==False:\n",
    "        for n in range(0, len(test_labels)):\n",
    "            if predicted_labels[n] != test_labels[n]:\n",
    "                result.append(n)\n",
    "        title = \"wrong\"\n",
    "    elif correctness ==True:\n",
    "        for n in range(0, len(test_labels)):\n",
    "            if predicted_labels[n] == test_labels[n]:\n",
    "                result.append(n)\n",
    "        title=\"correct\"\n",
    "    \n",
    "    samples = random.choices(population=result, k=16)\n",
    "\n",
    "    count = 0\n",
    "    nrows = ncols = 4\n",
    "\n",
    "    plt.figure(figsize=(12,8))\n",
    "\n",
    "    for n in samples:\n",
    "        count += 1\n",
    "        plt.subplot(nrows, ncols, count)\n",
    "        if correctness ==False:\n",
    "            plt.imshow(x_test[n].reshape(28, 28), cmap='Reds', interpolation='nearest')\n",
    "        elif correctness ==True:\n",
    "            plt.imshow(x_test[n].reshape(28, 28), cmap='Blues', interpolation='nearest')\n",
    "        tmp = \"Label:\" + str(test_labels[n]) + \", Prediction:\" + str(predicted_labels[n])\n",
    "        plt.title(tmp)\n",
    "\n",
    "    plt.tight_layout()\n",
    "    plt.suptitle(str(title)+' prediction', fontsize=15)\n",
    "    plt.subplots_adjust(top=0.85)\n",
    "    plt.show()\n",
    "    \n",
    "    return samples"
   ]
  },
  {
   "cell_type": "code",
   "execution_count": 39,
   "metadata": {},
   "outputs": [],
   "source": [
    "import os"
   ]
  },
  {
   "cell_type": "code",
   "execution_count": 40,
   "metadata": {},
   "outputs": [],
   "source": [
    "batch_size= 128"
   ]
  },
  {
   "cell_type": "markdown",
   "metadata": {},
   "source": [
    "## (1) Building MLP model"
   ]
  },
  {
   "cell_type": "code",
   "execution_count": 41,
   "metadata": {},
   "outputs": [],
   "source": [
    "from keras.callbacks import ModelCheckpoint"
   ]
  },
  {
   "cell_type": "code",
   "execution_count": 42,
   "metadata": {},
   "outputs": [],
   "source": [
    "MODEL_SAVE_FOLDER_PATH = './model/'\n",
    "if not os.path.exists(MODEL_SAVE_FOLDER_PATH):\n",
    "    os.mkdir(MODEL_SAVE_FOLDER_PATH)\n",
    "\n",
    "mlp_model_path = MODEL_SAVE_FOLDER_PATH + 'mlp_model.hdf5'"
   ]
  },
  {
   "cell_type": "code",
   "execution_count": 43,
   "metadata": {},
   "outputs": [],
   "source": [
    "def mlp_model_build(input_shape, num_classes):\n",
    "    model = Sequential()\n",
    "    \n",
    "    model.add(Dense(300, input_shape = input_shape, kernel_initializer='he_normal'))     # use he_normal initializer\n",
    "    model.add(Activation('relu'))    \n",
    "    model.add(Dense(100, kernel_initializer='he_normal'))                            # use he_normal initializer\n",
    "    model.add(Activation('relu'))    \n",
    "    model.add(Dense(50, kernel_initializer='he_normal'))                            # use he_normal initializer\n",
    "    model.add(Activation('relu'))    \n",
    "    model.add(Dense(10, kernel_initializer='he_normal'))                            # use he_normal initializer\n",
    "    model.add(Activation('softmax'))\n",
    "\n",
    "    model.compile(optimizer='rmsprop',\n",
    "              loss='categorical_crossentropy',\n",
    "              metrics=['accuracy'])\n",
    "    \n",
    "    cb_checkpoint = ModelCheckpoint(filepath=mlp_model_path, monitor='val_loss',\n",
    "                                verbose=1, save_best_only=True)\n",
    "\n",
    "    return model,cb_checkpoint"
   ]
  },
  {
   "cell_type": "code",
   "execution_count": 44,
   "metadata": {},
   "outputs": [
    {
     "name": "stdout",
     "output_type": "stream",
     "text": [
      "Model: \"sequential_6\"\n",
      "_________________________________________________________________\n",
      "Layer (type)                 Output Shape              Param #   \n",
      "=================================================================\n",
      "dense_1 (Dense)              (None, 300)               235500    \n",
      "_________________________________________________________________\n",
      "activation_1 (Activation)    (None, 300)               0         \n",
      "_________________________________________________________________\n",
      "dense_2 (Dense)              (None, 100)               30100     \n",
      "_________________________________________________________________\n",
      "activation_2 (Activation)    (None, 100)               0         \n",
      "_________________________________________________________________\n",
      "dense_3 (Dense)              (None, 50)                5050      \n",
      "_________________________________________________________________\n",
      "activation_3 (Activation)    (None, 50)                0         \n",
      "_________________________________________________________________\n",
      "dense_4 (Dense)              (None, 10)                510       \n",
      "_________________________________________________________________\n",
      "activation_4 (Activation)    (None, 10)                0         \n",
      "=================================================================\n",
      "Total params: 271,160\n",
      "Trainable params: 271,160\n",
      "Non-trainable params: 0\n",
      "_________________________________________________________________\n"
     ]
    }
   ],
   "source": [
    "mlp_model,cb_checkpoint = mlp_model_build(input_shape= (28*28,), num_classes=num_classes)\n",
    "mlp_model.summary()"
   ]
  },
  {
   "cell_type": "code",
   "execution_count": 45,
   "metadata": {},
   "outputs": [
    {
     "name": "stdout",
     "output_type": "stream",
     "text": [
      "Train on 42000 samples, validate on 18000 samples\n",
      "Epoch 1/20\n",
      "42000/42000 [==============================] - 3s 66us/step - loss: 0.3148 - accuracy: 0.9055 - val_loss: 0.2011 - val_accuracy: 0.9381\n",
      "\n",
      "Epoch 00001: val_loss improved from inf to 0.20112, saving model to ./model/mlp_model.hdf5\n",
      "Epoch 2/20\n",
      "42000/42000 [==============================] - 3s 67us/step - loss: 0.1190 - accuracy: 0.9647 - val_loss: 0.1772 - val_accuracy: 0.9467\n",
      "\n",
      "Epoch 00002: val_loss improved from 0.20112 to 0.17723, saving model to ./model/mlp_model.hdf5\n",
      "Epoch 3/20\n",
      "42000/42000 [==============================] - 3s 68us/step - loss: 0.0772 - accuracy: 0.9762 - val_loss: 0.1187 - val_accuracy: 0.9655\n",
      "\n",
      "Epoch 00003: val_loss improved from 0.17723 to 0.11865, saving model to ./model/mlp_model.hdf5\n",
      "Epoch 4/20\n",
      "42000/42000 [==============================] - 3s 67us/step - loss: 0.0545 - accuracy: 0.9834 - val_loss: 0.1025 - val_accuracy: 0.9713\n",
      "\n",
      "Epoch 00004: val_loss improved from 0.11865 to 0.10248, saving model to ./model/mlp_model.hdf5\n",
      "Epoch 5/20\n",
      "42000/42000 [==============================] - 3s 66us/step - loss: 0.0412 - accuracy: 0.9874 - val_loss: 0.1061 - val_accuracy: 0.9718\n",
      "\n",
      "Epoch 00005: val_loss did not improve from 0.10248\n",
      "Epoch 6/20\n",
      "42000/42000 [==============================] - 3s 72us/step - loss: 0.0310 - accuracy: 0.9899 - val_loss: 0.0987 - val_accuracy: 0.9747\n",
      "\n",
      "Epoch 00006: val_loss improved from 0.10248 to 0.09865, saving model to ./model/mlp_model.hdf5\n",
      "Epoch 7/20\n",
      "42000/42000 [==============================] - 3s 68us/step - loss: 0.0242 - accuracy: 0.9924 - val_loss: 0.1551 - val_accuracy: 0.9632\n",
      "\n",
      "Epoch 00007: val_loss did not improve from 0.09865\n",
      "Epoch 8/20\n",
      "42000/42000 [==============================] - 3s 72us/step - loss: 0.0185 - accuracy: 0.9939 - val_loss: 0.1094 - val_accuracy: 0.9750\n",
      "\n",
      "Epoch 00008: val_loss did not improve from 0.09865\n",
      "Epoch 9/20\n",
      "42000/42000 [==============================] - 3s 72us/step - loss: 0.0155 - accuracy: 0.9947 - val_loss: 0.1102 - val_accuracy: 0.9766\n",
      "\n",
      "Epoch 00009: val_loss did not improve from 0.09865\n",
      "Epoch 10/20\n",
      "42000/42000 [==============================] - 3s 72us/step - loss: 0.0122 - accuracy: 0.9958 - val_loss: 0.1434 - val_accuracy: 0.9740\n",
      "\n",
      "Epoch 00010: val_loss did not improve from 0.09865\n",
      "Epoch 11/20\n",
      "42000/42000 [==============================] - 3s 72us/step - loss: 0.0102 - accuracy: 0.9965 - val_loss: 0.1406 - val_accuracy: 0.9749\n",
      "\n",
      "Epoch 00011: val_loss did not improve from 0.09865\n",
      "Epoch 12/20\n",
      "42000/42000 [==============================] - 3s 72us/step - loss: 0.0088 - accuracy: 0.9971 - val_loss: 0.1477 - val_accuracy: 0.9747\n",
      "\n",
      "Epoch 00012: val_loss did not improve from 0.09865\n",
      "Epoch 13/20\n",
      "42000/42000 [==============================] - 3s 70us/step - loss: 0.0088 - accuracy: 0.9971 - val_loss: 0.1489 - val_accuracy: 0.9744\n",
      "\n",
      "Epoch 00013: val_loss did not improve from 0.09865\n",
      "Epoch 14/20\n",
      "42000/42000 [==============================] - 3s 72us/step - loss: 0.0064 - accuracy: 0.9978 - val_loss: 0.1514 - val_accuracy: 0.9761\n",
      "\n",
      "Epoch 00014: val_loss did not improve from 0.09865\n",
      "Epoch 15/20\n",
      "42000/42000 [==============================] - 3s 72us/step - loss: 0.0055 - accuracy: 0.9979 - val_loss: 0.1680 - val_accuracy: 0.9763\n",
      "\n",
      "Epoch 00015: val_loss did not improve from 0.09865\n",
      "Epoch 16/20\n",
      "42000/42000 [==============================] - 3s 72us/step - loss: 0.0056 - accuracy: 0.9985 - val_loss: 0.2023 - val_accuracy: 0.9718\n",
      "\n",
      "Epoch 00016: val_loss did not improve from 0.09865\n",
      "Epoch 17/20\n",
      "42000/42000 [==============================] - 3s 72us/step - loss: 0.0064 - accuracy: 0.9979 - val_loss: 0.1837 - val_accuracy: 0.9751\n",
      "\n",
      "Epoch 00017: val_loss did not improve from 0.09865\n",
      "Epoch 18/20\n",
      "42000/42000 [==============================] - 3s 72us/step - loss: 0.0041 - accuracy: 0.9988 - val_loss: 0.2028 - val_accuracy: 0.9739\n",
      "\n",
      "Epoch 00018: val_loss did not improve from 0.09865\n",
      "Epoch 19/20\n",
      "42000/42000 [==============================] - 3s 72us/step - loss: 0.0045 - accuracy: 0.9986 - val_loss: 0.2271 - val_accuracy: 0.9719\n",
      "\n",
      "Epoch 00019: val_loss did not improve from 0.09865\n",
      "Epoch 20/20\n",
      "42000/42000 [==============================] - 3s 72us/step - loss: 0.0053 - accuracy: 0.9985 - val_loss: 0.2141 - val_accuracy: 0.9746\n",
      "\n",
      "Epoch 00020: val_loss did not improve from 0.09865\n"
     ]
    }
   ],
   "source": [
    "mlp_history = mlp_model.fit(x_train.reshape(60000,28*28), \n",
    "                            y_train, \n",
    "                            validation_split = 0.3,\n",
    "                            callbacks=[cb_checkpoint],\n",
    "                            batch_size=batch_size,\n",
    "                            epochs = 20, \n",
    "                            verbose = 1)"
   ]
  },
  {
   "cell_type": "code",
   "execution_count": 46,
   "metadata": {},
   "outputs": [
    {
     "data": {
      "image/png": "[encoded data removed]",
      "text/plain": [
       "<Figure size 432x288 with 1 Axes>"
      ]
     },
     "metadata": {
      "needs_background": "light"
     },
     "output_type": "display_data"
    }
   ],
   "source": [
    "mlp_vloss= mlp_history.history['val_loss']\n",
    "mlp_loss = mlp_history.history['loss']\n",
    "\n",
    "x_len = np.arange(len(mlp_loss))\n",
    "plt.plot(x_len, mlp_vloss, marker='.', c='red', label=\"Validation-set Loss\")\n",
    "plt.plot(x_len, mlp_loss, marker='.', c='blue', label=\"Train-set Loss\")\n",
    "\n",
    "plt.legend(loc='upper right')\n",
    "plt.grid()\n",
    "plt.xlabel('epoch')\n",
    "plt.ylabel('loss')\n",
    "plt.ylim(0,1)\n",
    "plt.show()"
   ]
  },
  {
   "cell_type": "code",
   "execution_count": 47,
   "metadata": {},
   "outputs": [],
   "source": [
    "mlp_model.load_weights(mlp_model_path)"
   ]
  },
  {
   "cell_type": "code",
   "execution_count": 48,
   "metadata": {},
   "outputs": [
    {
     "data": {
      "image/png": "[encoded data removed]",
      "text/plain": [
       "<Figure size 864x576 with 16 Axes>"
      ]
     },
     "metadata": {
      "needs_background": "light"
     },
     "output_type": "display_data"
    }
   ],
   "source": [
    "wrong_samples_idx = plot_prediction(model =mlp_model, input_data = x_test.reshape(10000,28*28,),correctness =False)"
   ]
  },
  {
   "cell_type": "code",
   "execution_count": 49,
   "metadata": {},
   "outputs": [
    {
     "data": {
      "image/png": "[encoded data removed]",
      "text/plain": [
       "<Figure size 864x576 with 16 Axes>"
      ]
     },
     "metadata": {
      "needs_background": "light"
     },
     "output_type": "display_data"
    }
   ],
   "source": [
    "correct_samples_idx = plot_prediction(model =mlp_model, input_data = x_test.reshape(10000,28*28,),correctness =True)"
   ]
  },
  {
   "cell_type": "markdown",
   "metadata": {},
   "source": [
    "## data를 translation 했을때"
   ]
  },
  {
   "cell_type": "markdown",
   "metadata": {},
   "source": [
    "<img src=\"./images/image_translation.jpg\" alt=\"image_translation\" title=\"image_translation\" />"
   ]
  },
  {
   "cell_type": "code",
   "execution_count": 50,
   "metadata": {},
   "outputs": [],
   "source": [
    "translation_matrix = np.float32([ [1,0,0], [0,1,-3] ])\n",
    "x_test_translation=np.asarray([cv2.warpAffine(x, translation_matrix, (28, 28)) for x in x_test[correct_samples_idx]])"
   ]
  },
  {
   "cell_type": "code",
   "execution_count": 51,
   "metadata": {},
   "outputs": [
    {
     "data": {
      "image/png": "[encoded data removed]",
      "text/plain": [
       "<Figure size 864x576 with 16 Axes>"
      ]
     },
     "metadata": {
      "needs_background": "light"
     },
     "output_type": "display_data"
    }
   ],
   "source": [
    "predicted_result = mlp_model.predict(x_test_translation.reshape(16,28*28))\n",
    "predicted_labels = np.argmax(predicted_result, axis=1)\n",
    "\n",
    "test_labels = np.argmax(y_test[correct_samples_idx], axis=1)\n",
    "result = []\n",
    "\n",
    "\n",
    "count = 0\n",
    "nrows = ncols = 4\n",
    "\n",
    "plt.figure(figsize=(12,8))\n",
    "\n",
    "for n in range(0,16):\n",
    "    count += 1\n",
    "    #if test_labels[n]!=predicted_labels[n]:\n",
    "    plt.subplot(nrows, ncols, count)\n",
    "    if test_labels[n]!=predicted_labels[n]:\n",
    "        plt.imshow(x_test_translation[n].reshape(28, 28), cmap='Reds', interpolation='nearest')\n",
    "    else : \n",
    "        plt.imshow(x_test_translation[n].reshape(28, 28), cmap='Blues', interpolation='nearest')\n",
    "    \n",
    "    tmp = \"Label:\" + str(test_labels[n]) + \", Prediction:\" + str(predicted_labels[n])\n",
    "    plt.title(tmp)\n",
    "\n",
    "plt.tight_layout()\n",
    "plt.suptitle('translated image prediction', fontsize=15)\n",
    "plt.subplots_adjust(top=0.85)\n",
    "plt.show()"
   ]
  },
  {
   "cell_type": "markdown",
   "metadata": {},
   "source": [
    "<img src=\"./images/image_rotation1.png\" alt=\"image_rotation1\" title=\"image_rotation1\" />\n",
    "<img src=\"./images/image_rotation2.png\" alt=\"image_rotation2\" title=\"image_rotation2\" />"
   ]
  },
  {
   "cell_type": "code",
   "execution_count": 52,
   "metadata": {},
   "outputs": [],
   "source": [
    "rotation_matrix= cv2.getRotationMatrix2D((28/2, 28/2), 10, 1.0)\n",
    "x_test_rotation=np.asarray([cv2.warpAffine(x, rotation_matrix, (28, 28)) for x in x_test[correct_samples_idx]])"
   ]
  },
  {
   "cell_type": "code",
   "execution_count": 53,
   "metadata": {},
   "outputs": [
    {
     "data": {
      "image/png": "[encoded data removed]",
      "text/plain": [
       "<Figure size 864x576 with 16 Axes>"
      ]
     },
     "metadata": {
      "needs_background": "light"
     },
     "output_type": "display_data"
    }
   ],
   "source": [
    "predicted_result = mlp_model.predict(x_test_rotation.reshape(16,28*28))\n",
    "predicted_labels = np.argmax(predicted_result, axis=1)\n",
    "\n",
    "test_labels = np.argmax(y_test[correct_samples_idx], axis=1)\n",
    "result = []\n",
    "\n",
    "\n",
    "count = 0\n",
    "nrows = ncols = 4\n",
    "\n",
    "plt.figure(figsize=(12,8))\n",
    "\n",
    "for n in range(0,16):\n",
    "    count += 1\n",
    "    #if test_labels[n]!=predicted_labels[n]:\n",
    "    plt.subplot(nrows, ncols, count)\n",
    "    if test_labels[n]!=predicted_labels[n]:\n",
    "        plt.imshow(x_test_rotation[n].reshape(28, 28), cmap='Reds', interpolation='nearest')\n",
    "    else : \n",
    "        plt.imshow(x_test_rotation[n].reshape(28, 28), cmap='Blues', interpolation='nearest')\n",
    "    \n",
    "    tmp = \"Label:\" + str(test_labels[n]) + \", Prediction:\" + str(predicted_labels[n])\n",
    "    plt.title(tmp)\n",
    "\n",
    "plt.tight_layout()\n",
    "plt.suptitle('rotated image prediction', fontsize=15)\n",
    "plt.subplots_adjust(top=0.85)\n",
    "plt.show()"
   ]
  },
  {
   "cell_type": "markdown",
   "metadata": {},
   "source": [
    "## (2) Build CNN model"
   ]
  },
  {
   "cell_type": "code",
   "execution_count": 54,
   "metadata": {},
   "outputs": [],
   "source": [
    "MODEL_SAVE_FOLDER_PATH = './model/'\n",
    "if not os.path.exists(MODEL_SAVE_FOLDER_PATH):\n",
    "    os.mkdir(MODEL_SAVE_FOLDER_PATH)\n",
    "\n",
    "cnn_model_path = MODEL_SAVE_FOLDER_PATH + 'cnn_model.hdf5'"
   ]
  },
  {
   "cell_type": "markdown",
   "metadata": {},
   "source": [
    "CNN은 MLP와는 달리 이미지를 그대로 받아 오기 때문에, \n",
    "인풋은 [batch, 이미지높이, 이미지너비, 이미지채널]의 모양을 가지는 4차원 텐서이며,\n",
    "Y는 분류의 사용될 라벨 값을 받아오는 [batch]의 모양의 1차원 텐서입니다."
   ]
  },
  {
   "cell_type": "code",
   "execution_count": 55,
   "metadata": {},
   "outputs": [],
   "source": [
    "def cnn_model_build(input_shape, num_classes):\n",
    "        model = Sequential()\n",
    "        # CONV => RELU => POOL\n",
    "        model.add(Conv2D(2, kernel_size=(3,3), padding=\"same\",input_shape=input_shape))\n",
    "        model.add(Activation(\"relu\"))\n",
    "        model.add(MaxPooling2D(pool_size=(2, 2), strides=(2, 2)))\n",
    "        \n",
    "        # CONV => RELU => POOL\n",
    "        model.add(Conv2D(10, kernel_size=(5,5), padding=\"same\"))\n",
    "        model.add(Activation(\"relu\"))\n",
    "        model.add(MaxPooling2D(pool_size=(2, 2), strides=(2, 2)))\n",
    "        \n",
    "        # CONV => RELU => POOL\n",
    "        model.add(Conv2D(50, kernel_size=(7,7), padding=\"same\"))\n",
    "        model.add(Activation(\"relu\"))\n",
    "        model.add(MaxPooling2D(pool_size=(2, 2), strides=(2, 2)))\n",
    "        \n",
    "        # Flatten => RELU layers\n",
    "        model.add(Flatten())\n",
    "        model.add(Dense(50))\n",
    "        model.add(Activation(\"relu\"))\n",
    " \n",
    "        # a softmax classifier\n",
    "        model.add(Dense(num_classes))\n",
    "        model.add(Activation(\"softmax\"))\n",
    "        cb_checkpoint = ModelCheckpoint(filepath=cnn_model_path, monitor='val_loss',\n",
    "                                verbose=1, save_best_only=True)\n",
    "        model.compile(optimizer='rmsprop',\n",
    "              loss='categorical_crossentropy',\n",
    "              metrics=['accuracy'])\n",
    "        return model,cb_checkpoint\n"
   ]
  },
  {
   "cell_type": "code",
   "execution_count": 56,
   "metadata": {},
   "outputs": [
    {
     "name": "stdout",
     "output_type": "stream",
     "text": [
      "Model: \"sequential_7\"\n",
      "_________________________________________________________________\n",
      "Layer (type)                 Output Shape              Param #   \n",
      "=================================================================\n",
      "conv2d_6 (Conv2D)            (None, 28, 28, 2)         20        \n",
      "_________________________________________________________________\n",
      "activation_5 (Activation)    (None, 28, 28, 2)         0         \n",
      "_________________________________________________________________\n",
      "max_pooling2d_6 (MaxPooling2 (None, 14, 14, 2)         0         \n",
      "_________________________________________________________________\n",
      "conv2d_7 (Conv2D)            (None, 14, 14, 10)        510       \n",
      "_________________________________________________________________\n",
      "activation_6 (Activation)    (None, 14, 14, 10)        0         \n",
      "_________________________________________________________________\n",
      "max_pooling2d_7 (MaxPooling2 (None, 7, 7, 10)          0         \n",
      "_________________________________________________________________\n",
      "conv2d_8 (Conv2D)            (None, 7, 7, 50)          24550     \n",
      "_________________________________________________________________\n",
      "activation_7 (Activation)    (None, 7, 7, 50)          0         \n",
      "_________________________________________________________________\n",
      "max_pooling2d_8 (MaxPooling2 (None, 3, 3, 50)          0         \n",
      "_________________________________________________________________\n",
      "flatten_1 (Flatten)          (None, 450)               0         \n",
      "_________________________________________________________________\n",
      "dense_5 (Dense)              (None, 50)                22550     \n",
      "_________________________________________________________________\n",
      "activation_8 (Activation)    (None, 50)                0         \n",
      "_________________________________________________________________\n",
      "dense_6 (Dense)              (None, 10)                510       \n",
      "_________________________________________________________________\n",
      "activation_9 (Activation)    (None, 10)                0         \n",
      "=================================================================\n",
      "Total params: 48,140\n",
      "Trainable params: 48,140\n",
      "Non-trainable params: 0\n",
      "_________________________________________________________________\n"
     ]
    }
   ],
   "source": [
    "cnn_model,cb_checkpoint = cnn_model_build(input_shape = (28,28,1), num_classes=num_classes)\n",
    "cnn_model.summary()"
   ]
  },
  {
   "cell_type": "code",
   "execution_count": null,
   "metadata": {
    "scrolled": true
   },
   "outputs": [
    {
     "name": "stdout",
     "output_type": "stream",
     "text": [
      "Train on 42000 samples, validate on 18000 samples\n",
      "Epoch 1/20\n",
      "42000/42000 [==============================] - 4s 95us/step - loss: 0.4533 - accuracy: 0.8606 - val_loss: 0.4709 - val_accuracy: 0.8476\n",
      "\n",
      "Epoch 00001: val_loss improved from inf to 0.47086, saving model to ./model/cnn_model.hdf5\n",
      "Epoch 2/20\n",
      "42000/42000 [==============================] - 4s 95us/step - loss: 0.1223 - accuracy: 0.9621 - val_loss: 0.1141 - val_accuracy: 0.9624\n",
      "\n",
      "Epoch 00002: val_loss improved from 0.47086 to 0.11407, saving model to ./model/cnn_model.hdf5\n",
      "Epoch 3/20\n",
      "42000/42000 [==============================] - 4s 93us/step - loss: 0.0796 - accuracy: 0.9749 - val_loss: 0.0820 - val_accuracy: 0.9741\n",
      "\n",
      "Epoch 00003: val_loss improved from 0.11407 to 0.08197, saving model to ./model/cnn_model.hdf5\n",
      "Epoch 4/20\n",
      "42000/42000 [==============================] - 4s 94us/step - loss: 0.0612 - accuracy: 0.9804 - val_loss: 0.0717 - val_accuracy: 0.9782\n",
      "\n",
      "Epoch 00004: val_loss improved from 0.08197 to 0.07169, saving model to ./model/cnn_model.hdf5\n",
      "Epoch 5/20\n",
      "41856/42000 [============================>.] - ETA: 0s - loss: 0.0480 - accuracy: 0.9847"
     ]
    }
   ],
   "source": [
    "cnn_history = cnn_model.fit(x_train, \n",
    "                            y_train, \n",
    "                            validation_split = 0.3, \n",
    "                            callbacks=[cb_checkpoint],\n",
    "                            batch_size=batch_size,\n",
    "                            epochs = 20, \n",
    "                            verbose = 1)"
   ]
  },
  {
   "cell_type": "code",
   "execution_count": null,
   "metadata": {},
   "outputs": [],
   "source": [
    "cnn_vloss= cnn_history.history['val_loss']\n",
    "cnn_loss = cnn_history.history['loss']\n",
    "\n",
    "x_len = np.arange(len(cnn_loss))\n",
    "plt.plot(x_len, cnn_vloss, marker='.', c='red', label=\"Validation-set Loss\")\n",
    "plt.plot(x_len, cnn_loss, marker='.', c='blue', label=\"Train-set Loss\")\n",
    "\n",
    "plt.legend(loc='upper right')\n",
    "plt.grid()\n",
    "plt.xlabel('epoch')\n",
    "plt.ylabel('loss')\n",
    "plt.ylim(0,1)\n",
    "plt.show()"
   ]
  },
  {
   "cell_type": "code",
   "execution_count": null,
   "metadata": {},
   "outputs": [],
   "source": [
    "cnn_model.load_weights(cnn_model_path)"
   ]
  },
  {
   "cell_type": "code",
   "execution_count": null,
   "metadata": {},
   "outputs": [],
   "source": [
    "wrong_samples_idx = plot_prediction(model =cnn_model, input_data = x_test.reshape(10000,28,28,1),correctness =False)"
   ]
  },
  {
   "cell_type": "code",
   "execution_count": null,
   "metadata": {},
   "outputs": [],
   "source": [
    "correct_samples_idx = plot_prediction(model =cnn_model, input_data = x_test.reshape(10000,28,28,1),correctness =True)"
   ]
  },
  {
   "cell_type": "code",
   "execution_count": null,
   "metadata": {},
   "outputs": [],
   "source": [
    "x_test_translation=np.asarray([cv2.warpAffine(x, translation_matrix, (28, 28)) for x in x_test[correct_samples_idx]])"
   ]
  },
  {
   "cell_type": "code",
   "execution_count": null,
   "metadata": {
    "scrolled": false
   },
   "outputs": [],
   "source": [
    "predicted_result = cnn_model.predict(x_test_translation.reshape(16,28,28,1))\n",
    "predicted_labels = np.argmax(predicted_result, axis=1)\n",
    "\n",
    "test_labels = np.argmax(y_test[correct_samples_idx], axis=1)\n",
    "result = []\n",
    "\n",
    "\n",
    "count = 0\n",
    "nrows = ncols = 4\n",
    "\n",
    "plt.figure(figsize=(12,8))\n",
    "\n",
    "for n in range(0,16):\n",
    "    count += 1\n",
    "    plt.subplot(nrows, ncols, count)\n",
    "    if test_labels[n]!=predicted_labels[n]:\n",
    "        plt.imshow(x_test_translation[n].reshape(28, 28), cmap='Reds', interpolation='nearest')\n",
    "    else : \n",
    "        plt.imshow(x_test_translation[n].reshape(28, 28), cmap='Blues', interpolation='nearest')\n",
    "    tmp = \"Label:\" + str(test_labels[n]) + \", Prediction:\" + str(predicted_labels[n])\n",
    "    plt.title(tmp)\n",
    "\n",
    "plt.tight_layout()\n",
    "plt.suptitle('translated image prediction', fontsize=15)\n",
    "plt.subplots_adjust(top=0.85)\n",
    "plt.show()"
   ]
  },
  {
   "cell_type": "code",
   "execution_count": null,
   "metadata": {},
   "outputs": [],
   "source": [
    "x_test_rotation=np.asarray([cv2.warpAffine(x, rotation_matrix, (28, 28)) for x in x_test[correct_samples_idx]])"
   ]
  },
  {
   "cell_type": "code",
   "execution_count": null,
   "metadata": {},
   "outputs": [],
   "source": [
    "predicted_result = cnn_model.predict(x_test_rotation.reshape(16,28,28,1))\n",
    "predicted_labels = np.argmax(predicted_result, axis=1)\n",
    "\n",
    "test_labels = np.argmax(y_test[correct_samples_idx], axis=1)\n",
    "result = []\n",
    "\n",
    "\n",
    "count = 0\n",
    "nrows = ncols = 4\n",
    "\n",
    "plt.figure(figsize=(12,8))\n",
    "\n",
    "for n in range(0,16):\n",
    "    count += 1\n",
    "    plt.subplot(nrows, ncols, count)\n",
    "    if test_labels[n]!=predicted_labels[n]:\n",
    "        plt.imshow(x_test_rotation[n].reshape(28, 28), cmap='Reds', interpolation='nearest')\n",
    "    else : \n",
    "        plt.imshow(x_test_rotation[n].reshape(28, 28), cmap='Blues', interpolation='nearest')\n",
    "    tmp = \"Label:\" + str(test_labels[n]) + \", Prediction:\" + str(predicted_labels[n])\n",
    "    plt.title(tmp)\n",
    "\n",
    "plt.tight_layout()\n",
    "plt.suptitle('rotated image prediction', fontsize=15)\n",
    "plt.subplots_adjust(top=0.85)\n",
    "plt.show()"
   ]
  },
  {
   "cell_type": "code",
   "execution_count": null,
   "metadata": {},
   "outputs": [],
   "source": []
  },
  {
   "cell_type": "code",
   "execution_count": null,
   "metadata": {},
   "outputs": [],
   "source": []
  },
  {
   "cell_type": "code",
   "execution_count": null,
   "metadata": {},
   "outputs": [],
   "source": []
  }
 ],
 "metadata": {
  "kernelspec": {
   "display_name": "Python 3",
   "language": "python",
   "name": "python3"
  },
  "language_info": {
   "codemirror_mode": {
    "name": "ipython",
    "version": 3
   },
   "file_extension": ".py",
   "mimetype": "text/x-python",
   "name": "python",
   "nbconvert_exporter": "python",
   "pygments_lexer": "ipython3",
   "version": "3.7.7"
  }
 },
 "nbformat": 4,
 "nbformat_minor": 2
}
